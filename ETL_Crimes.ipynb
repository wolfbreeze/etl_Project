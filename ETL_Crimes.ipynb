{
 "cells": [
  {
   "cell_type": "code",
   "execution_count": 1,
   "metadata": {},
   "outputs": [],
   "source": [
    "# List Dependencies\n",
    "import pandas as pd"
   ]
  },
  {
   "cell_type": "code",
   "execution_count": 2,
   "metadata": {},
   "outputs": [
    {
     "name": "stderr",
     "output_type": "stream",
     "text": [
      "C:\\Users\\Owner\\Anaconda3\\envs\\PythonData\\lib\\site-packages\\IPython\\core\\interactiveshell.py:3049: DtypeWarning: Columns (4,5,7,8,9,16) have mixed types. Specify dtype option on import or set low_memory=False.\n",
      "  interactivity=interactivity, compiler=compiler, result=result)\n"
     ]
    }
   ],
   "source": [
    "#Pull in Chicago data CSV to dataframes and generalize field names\n",
    "denver_crimes = \"Documents/Denver_Crimes_2015.csv\"\n",
    "denver_df = pd.read_csv(denver_crimes)\n",
    "denver_df['OFFENSE_CATEGORY_ID'] = denver_df['OFFENSE_CATEGORY_ID'].replace({'other-crimes-against-persons': 'Aggravated Assault', 'aggravated-assault': 'Aggravated Assault', 'robbery': 'Robbery',\n",
    "                                 'sexual-assault': 'Rape', 'all-other-crimes': 'Aggravated Assault',\n",
    "                                'murder':'Homicide'})"
   ]
  },
  {
   "cell_type": "code",
   "execution_count": 3,
   "metadata": {},
   "outputs": [],
   "source": [
    "#Pull in Los Angeles data CSV to dataframes and generalize field names\n",
    "LA_crimes = \"Documents/LA_Crime_2015.csv\"\n",
    "LA_df = pd.read_csv(LA_crimes)\n",
    "LA_df['Crime Code Description'] = LA_df['Crime Code Description'].replace({'BATTERY - SIMPLE ASSAULT': 'Aggravated Assault', 'INTIMATE PARTNER - SIMPLE ASSAULT': 'Aggravated Assault', 'ASSAULT WITH DEADLY WEAPON, AGGRAVATED ASSAULT': 'Aggravated Assault',\n",
    "                                  'ROBBERY': 'Robbery', 'INTIMATE PARTNER - AGGRAVATED ASSAULT': 'Aggravated Assault',\n",
    "                                'ATTEMPTED ROBBERY':'Robbery', 'BATTERY WITH SEXUAL CONTACT':'Aggravated Assault','RAPE, FORCIBLE':'Rape',\n",
    "                                'CHILD ABUSE (PHYSICAL) - SIMPLE ASSAULT':'Aggravated Assault','OTHER ASSAULT':'Aggravated Assault','BATTERY POLICE (SIMPLE)':'Aggravated Assault',\n",
    "                                'ASSAULT WITH DEADLY WEAPON ON POLICE OFFICER':'Aggravated Assault','CRIMINAL HOMICIDE':'Homicide','SHOTS FIRED AT INHABITED DWELLING':'Aggravated Assault',\n",
    "                                'THROWING OBJECT AT MOVING VEHICLE':'Aggravated Assault','RAPE, ATTEMPTED':'Rape','CHILD ABUSE (PHYSICAL) - AGGRAVATED ASSAULT':'Aggravated Assault',\n",
    "                                'BATTERY ON A FIREFIGHTER':'Aggravated Assault','SHOTS FIRED AT MOVING VEHICLE, TRAIN OR AIRCRAFT':'Aggravated Assault',\n",
    "                                'BEASTIALITY, CRIME AGAINST NATURE SEXUAL ASSLT WITH ANIM0065':'Aggravated Assault'})\n"
   ]
  },
  {
   "cell_type": "code",
   "execution_count": 4,
   "metadata": {},
   "outputs": [
    {
     "name": "stderr",
     "output_type": "stream",
     "text": [
      "C:\\Users\\Owner\\Anaconda3\\envs\\PythonData\\lib\\site-packages\\IPython\\core\\interactiveshell.py:3049: DtypeWarning: Columns (1,2,4,7,9,11) have mixed types. Specify dtype option on import or set low_memory=False.\n",
      "  interactivity=interactivity, compiler=compiler, result=result)\n"
     ]
    }
   ],
   "source": [
    "#Pull in Philadelphia data CSV to dataframes and generalize field names\n",
    "philly_crimes = \"Documents/Philly_Crime_2015.csv\"\n",
    "philly_df = pd.read_csv(philly_crimes)\n",
    "philly_df['Text_General_Code'] = philly_df['Text_General_Code'].replace({'Other Assaults': 'Aggravated Assault', 'Robbery No Firearm': 'Robbery', 'Robbery Firearm': 'Robbery',\n",
    "                                 'Aggravated Assault No Firearm': 'Aggravated Assault', 'Aggravated Assault Firearm': 'Aggravated Assault',\n",
    "                                'Homicide - Criminal':'Homicide', 'Other Sex Offenses (Not Commercialized)':'Rape'})\n"
   ]
  },
  {
   "cell_type": "code",
   "execution_count": 5,
   "metadata": {},
   "outputs": [],
   "source": [
    "#Pull in Boston data CSV to dataframes and generalize field names\n",
    "boston_crimes = \"Documents/Boston_Crimes_2015.csv\"\n",
    "boston_df = pd.read_csv(boston_crimes)\n",
    "boston_df['OFFENSE_CODE_GROUP'] = boston_df['OFFENSE_CODE_GROUP'].replace({'Simple Assault': 'Aggravated Assault'})"
   ]
  },
  {
   "cell_type": "code",
   "execution_count": 6,
   "metadata": {},
   "outputs": [
    {
     "data": {
      "text/html": [
       "<div>\n",
       "<style scoped>\n",
       "    .dataframe tbody tr th:only-of-type {\n",
       "        vertical-align: middle;\n",
       "    }\n",
       "\n",
       "    .dataframe tbody tr th {\n",
       "        vertical-align: top;\n",
       "    }\n",
       "\n",
       "    .dataframe thead th {\n",
       "        text-align: right;\n",
       "    }\n",
       "</style>\n",
       "<table border=\"1\" class=\"dataframe\">\n",
       "  <thead>\n",
       "    <tr style=\"text-align: right;\">\n",
       "      <th></th>\n",
       "      <th>crime_type</th>\n",
       "      <th>counts</th>\n",
       "    </tr>\n",
       "  </thead>\n",
       "  <tbody>\n",
       "    <tr>\n",
       "      <th>0</th>\n",
       "      <td>Aggravated Assault</td>\n",
       "      <td>5615</td>\n",
       "    </tr>\n",
       "    <tr>\n",
       "      <th>1</th>\n",
       "      <td>Robbery</td>\n",
       "      <td>1213</td>\n",
       "    </tr>\n",
       "    <tr>\n",
       "      <th>2</th>\n",
       "      <td>Rape</td>\n",
       "      <td>717</td>\n",
       "    </tr>\n",
       "    <tr>\n",
       "      <th>3</th>\n",
       "      <td>Homicide</td>\n",
       "      <td>49</td>\n",
       "    </tr>\n",
       "  </tbody>\n",
       "</table>\n",
       "</div>"
      ],
      "text/plain": [
       "           crime_type  counts\n",
       "0  Aggravated Assault    5615\n",
       "1             Robbery    1213\n",
       "2                Rape     717\n",
       "3            Homicide      49"
      ]
     },
     "execution_count": 6,
     "metadata": {},
     "output_type": "execute_result"
    }
   ],
   "source": [
    "#Dever Crimes, Overwrite DF, Run counts on individual types of major crime\n",
    "denver_value_counts = denver_df['OFFENSE_CATEGORY_ID'].value_counts(dropna=True, sort=True)\n",
    "denver_df = denver_value_counts.rename_axis('crime_type').reset_index(name='counts')\n",
    "denver_df"
   ]
  },
  {
   "cell_type": "code",
   "execution_count": 7,
   "metadata": {},
   "outputs": [
    {
     "data": {
      "text/html": [
       "<div>\n",
       "<style scoped>\n",
       "    .dataframe tbody tr th:only-of-type {\n",
       "        vertical-align: middle;\n",
       "    }\n",
       "\n",
       "    .dataframe tbody tr th {\n",
       "        vertical-align: top;\n",
       "    }\n",
       "\n",
       "    .dataframe thead th {\n",
       "        text-align: right;\n",
       "    }\n",
       "</style>\n",
       "<table border=\"1\" class=\"dataframe\">\n",
       "  <thead>\n",
       "    <tr style=\"text-align: right;\">\n",
       "      <th></th>\n",
       "      <th>crime_type</th>\n",
       "      <th>counts</th>\n",
       "    </tr>\n",
       "  </thead>\n",
       "  <tbody>\n",
       "    <tr>\n",
       "      <th>0</th>\n",
       "      <td>Aggravated Assault</td>\n",
       "      <td>13471</td>\n",
       "    </tr>\n",
       "    <tr>\n",
       "      <th>1</th>\n",
       "      <td>Robbery</td>\n",
       "      <td>2932</td>\n",
       "    </tr>\n",
       "    <tr>\n",
       "      <th>2</th>\n",
       "      <td>Rape</td>\n",
       "      <td>338</td>\n",
       "    </tr>\n",
       "    <tr>\n",
       "      <th>3</th>\n",
       "      <td>Homicide</td>\n",
       "      <td>68</td>\n",
       "    </tr>\n",
       "  </tbody>\n",
       "</table>\n",
       "</div>"
      ],
      "text/plain": [
       "           crime_type  counts\n",
       "0  Aggravated Assault   13471\n",
       "1             Robbery    2932\n",
       "2                Rape     338\n",
       "3            Homicide      68"
      ]
     },
     "execution_count": 7,
     "metadata": {},
     "output_type": "execute_result"
    }
   ],
   "source": [
    "# Clean up of LA DF reduce type of crime to major 4 crimes (Remove non-violent and petty crimes), Overwrite DF, Run counts on individual types of mejor crime\n",
    "LA_value_counts = LA_df['Crime Code Description'].value_counts(dropna=True, sort=True)\n",
    "LA_df = LA_value_counts.rename_axis('crime_type').reset_index(name='counts')\n",
    "LA_df = LA_df[LA_df.crime_type != 'PICKPOCKET']\n",
    "LA_df = LA_df[LA_df.crime_type != 'BUNCO, GRAND THEFT']\n",
    "LA_df = LA_df[LA_df.crime_type != 'SHOPLIFTING - PETTY THEFT ($950 & UNDER)']\n",
    "LA_df = LA_df[LA_df.crime_type != 'THEFT FROM MOTOR VEHICLE - PETTY ($950 & UNDER)']\n",
    "LA_df = LA_df[LA_df.crime_type != 'CRIMINAL THREATS - NO WEAPON DISPLAYED']\n",
    "LA_df = LA_df[LA_df.crime_type != 'DOCUMENT FORGERY / STOLEN FELONY']\n",
    "LA_df = LA_df[LA_df.crime_type != 'TRESPASSING']\n",
    "LA_df = LA_df[LA_df.crime_type != 'VEHICLE - STOLEN']\n",
    "LA_df = LA_df[LA_df.crime_type != 'CRIMINAL THREATS - NO WEAPON DISPLAYED']\n",
    "\n",
    "LA_df"
   ]
  },
  {
   "cell_type": "code",
   "execution_count": 8,
   "metadata": {},
   "outputs": [
    {
     "data": {
      "text/html": [
       "<div>\n",
       "<style scoped>\n",
       "    .dataframe tbody tr th:only-of-type {\n",
       "        vertical-align: middle;\n",
       "    }\n",
       "\n",
       "    .dataframe tbody tr th {\n",
       "        vertical-align: top;\n",
       "    }\n",
       "\n",
       "    .dataframe thead th {\n",
       "        text-align: right;\n",
       "    }\n",
       "</style>\n",
       "<table border=\"1\" class=\"dataframe\">\n",
       "  <thead>\n",
       "    <tr style=\"text-align: right;\">\n",
       "      <th></th>\n",
       "      <th>crime_type</th>\n",
       "      <th>counts</th>\n",
       "    </tr>\n",
       "  </thead>\n",
       "  <tbody>\n",
       "    <tr>\n",
       "      <th>0</th>\n",
       "      <td>Aggravated Assault</td>\n",
       "      <td>7506</td>\n",
       "    </tr>\n",
       "    <tr>\n",
       "      <th>1</th>\n",
       "      <td>Robbery</td>\n",
       "      <td>3833</td>\n",
       "    </tr>\n",
       "    <tr>\n",
       "      <th>2</th>\n",
       "      <td>Rape</td>\n",
       "      <td>446</td>\n",
       "    </tr>\n",
       "    <tr>\n",
       "      <th>3</th>\n",
       "      <td>Homicide</td>\n",
       "      <td>273</td>\n",
       "    </tr>\n",
       "  </tbody>\n",
       "</table>\n",
       "</div>"
      ],
      "text/plain": [
       "           crime_type  counts\n",
       "0  Aggravated Assault    7506\n",
       "1             Robbery    3833\n",
       "2                Rape     446\n",
       "3            Homicide     273"
      ]
     },
     "execution_count": 8,
     "metadata": {},
     "output_type": "execute_result"
    }
   ],
   "source": [
    "#Phileadelphia Crimes, Overwrite DF, Run counts on individual types of major crime\n",
    "philly_value_counts = philly_df['Text_General_Code'].value_counts(dropna=True, sort=True)\n",
    "philly_df = philly_value_counts.rename_axis('crime_type').reset_index(name='counts')\n",
    "philly_df"
   ]
  },
  {
   "cell_type": "code",
   "execution_count": 9,
   "metadata": {},
   "outputs": [
    {
     "data": {
      "text/html": [
       "<div>\n",
       "<style scoped>\n",
       "    .dataframe tbody tr th:only-of-type {\n",
       "        vertical-align: middle;\n",
       "    }\n",
       "\n",
       "    .dataframe tbody tr th {\n",
       "        vertical-align: top;\n",
       "    }\n",
       "\n",
       "    .dataframe thead th {\n",
       "        text-align: right;\n",
       "    }\n",
       "</style>\n",
       "<table border=\"1\" class=\"dataframe\">\n",
       "  <thead>\n",
       "    <tr style=\"text-align: right;\">\n",
       "      <th></th>\n",
       "      <th>crime_type</th>\n",
       "      <th>counts</th>\n",
       "    </tr>\n",
       "  </thead>\n",
       "  <tbody>\n",
       "    <tr>\n",
       "      <th>0</th>\n",
       "      <td>Aggravated Assault</td>\n",
       "      <td>24296</td>\n",
       "    </tr>\n",
       "    <tr>\n",
       "      <th>1</th>\n",
       "      <td>Robbery</td>\n",
       "      <td>4740</td>\n",
       "    </tr>\n",
       "    <tr>\n",
       "      <th>2</th>\n",
       "      <td>Homicide</td>\n",
       "      <td>165</td>\n",
       "    </tr>\n",
       "    <tr>\n",
       "      <th>3</th>\n",
       "      <td>Rape</td>\n",
       "      <td>NaN</td>\n",
       "    </tr>\n",
       "  </tbody>\n",
       "</table>\n",
       "</div>"
      ],
      "text/plain": [
       "           crime_type counts\n",
       "0  Aggravated Assault  24296\n",
       "1             Robbery   4740\n",
       "2            Homicide    165\n",
       "3                Rape    NaN"
      ]
     },
     "execution_count": 9,
     "metadata": {},
     "output_type": "execute_result"
    }
   ],
   "source": [
    "#Phileadelphia Crimes, Overwrite DF, Run counts on individual types of major crime, Appended a row for 'Rape' and a NaN value\n",
    "boston_value_counts = boston_df['OFFENSE_CODE_GROUP'].value_counts(dropna=True, sort=True)\n",
    "boston_df = boston_value_counts.rename_axis('crime_type').reset_index(name='counts')\n",
    "boston_df = boston_df.append({'crime_type' : 'Rape' , 'counts' : 'NaN'} , ignore_index=True)\n",
    "boston_df"
   ]
  },
  {
   "cell_type": "code",
   "execution_count": 10,
   "metadata": {},
   "outputs": [
    {
     "data": {
      "text/html": [
       "<div>\n",
       "<style scoped>\n",
       "    .dataframe tbody tr th:only-of-type {\n",
       "        vertical-align: middle;\n",
       "    }\n",
       "\n",
       "    .dataframe tbody tr th {\n",
       "        vertical-align: top;\n",
       "    }\n",
       "\n",
       "    .dataframe thead th {\n",
       "        text-align: right;\n",
       "    }\n",
       "</style>\n",
       "<table border=\"1\" class=\"dataframe\">\n",
       "  <thead>\n",
       "    <tr style=\"text-align: right;\">\n",
       "      <th></th>\n",
       "      <th>crime_type</th>\n",
       "      <th>Denver Count</th>\n",
       "      <th>Philadelphia Count</th>\n",
       "    </tr>\n",
       "  </thead>\n",
       "  <tbody>\n",
       "    <tr>\n",
       "      <th>0</th>\n",
       "      <td>Aggravated Assault</td>\n",
       "      <td>5615</td>\n",
       "      <td>7506</td>\n",
       "    </tr>\n",
       "    <tr>\n",
       "      <th>1</th>\n",
       "      <td>Robbery</td>\n",
       "      <td>1213</td>\n",
       "      <td>3833</td>\n",
       "    </tr>\n",
       "    <tr>\n",
       "      <th>2</th>\n",
       "      <td>Rape</td>\n",
       "      <td>717</td>\n",
       "      <td>446</td>\n",
       "    </tr>\n",
       "    <tr>\n",
       "      <th>3</th>\n",
       "      <td>Homicide</td>\n",
       "      <td>49</td>\n",
       "      <td>273</td>\n",
       "    </tr>\n",
       "  </tbody>\n",
       "</table>\n",
       "</div>"
      ],
      "text/plain": [
       "           crime_type  Denver Count  Philadelphia Count\n",
       "0  Aggravated Assault          5615                7506\n",
       "1             Robbery          1213                3833\n",
       "2                Rape           717                 446\n",
       "3            Homicide            49                 273"
      ]
     },
     "execution_count": 10,
     "metadata": {},
     "output_type": "execute_result"
    }
   ],
   "source": [
    "#Combine Dever Count of Major Crimes and Philly Count of Major Crimes, Rename columns to [City] Count\n",
    "combined_df = pd.merge(denver_df, philly_df, on=\"crime_type\")\n",
    "combined_df.rename(columns={'counts_x':'Denver Count', 'counts_y':'Philadelphia Count'}, inplace=True)\n",
    "combined_df"
   ]
  },
  {
   "cell_type": "code",
   "execution_count": 11,
   "metadata": {},
   "outputs": [
    {
     "data": {
      "text/html": [
       "<div>\n",
       "<style scoped>\n",
       "    .dataframe tbody tr th:only-of-type {\n",
       "        vertical-align: middle;\n",
       "    }\n",
       "\n",
       "    .dataframe tbody tr th {\n",
       "        vertical-align: top;\n",
       "    }\n",
       "\n",
       "    .dataframe thead th {\n",
       "        text-align: right;\n",
       "    }\n",
       "</style>\n",
       "<table border=\"1\" class=\"dataframe\">\n",
       "  <thead>\n",
       "    <tr style=\"text-align: right;\">\n",
       "      <th></th>\n",
       "      <th>crime_type</th>\n",
       "      <th>Denver Count</th>\n",
       "      <th>Philadelphia Count</th>\n",
       "      <th>Los Angeles Count</th>\n",
       "    </tr>\n",
       "  </thead>\n",
       "  <tbody>\n",
       "    <tr>\n",
       "      <th>0</th>\n",
       "      <td>Aggravated Assault</td>\n",
       "      <td>5615</td>\n",
       "      <td>7506</td>\n",
       "      <td>13471</td>\n",
       "    </tr>\n",
       "    <tr>\n",
       "      <th>1</th>\n",
       "      <td>Robbery</td>\n",
       "      <td>1213</td>\n",
       "      <td>3833</td>\n",
       "      <td>2932</td>\n",
       "    </tr>\n",
       "    <tr>\n",
       "      <th>2</th>\n",
       "      <td>Rape</td>\n",
       "      <td>717</td>\n",
       "      <td>446</td>\n",
       "      <td>338</td>\n",
       "    </tr>\n",
       "    <tr>\n",
       "      <th>3</th>\n",
       "      <td>Homicide</td>\n",
       "      <td>49</td>\n",
       "      <td>273</td>\n",
       "      <td>68</td>\n",
       "    </tr>\n",
       "  </tbody>\n",
       "</table>\n",
       "</div>"
      ],
      "text/plain": [
       "           crime_type  Denver Count  Philadelphia Count  Los Angeles Count\n",
       "0  Aggravated Assault          5615                7506              13471\n",
       "1             Robbery          1213                3833               2932\n",
       "2                Rape           717                 446                338\n",
       "3            Homicide            49                 273                 68"
      ]
     },
     "execution_count": 11,
     "metadata": {},
     "output_type": "execute_result"
    }
   ],
   "source": [
    "#Combine previous combined dataframe with the LA Count, Rename 'counts' column to 'Los Angeles Count'\n",
    "combined_df = pd.merge(combined_df, LA_df, on=\"crime_type\")\n",
    "combined_df.rename(columns={'counts':'Los Angeles Count'}, inplace=True)\n",
    "combined_df"
   ]
  },
  {
   "cell_type": "code",
   "execution_count": 12,
   "metadata": {},
   "outputs": [
    {
     "data": {
      "text/html": [
       "<div>\n",
       "<style scoped>\n",
       "    .dataframe tbody tr th:only-of-type {\n",
       "        vertical-align: middle;\n",
       "    }\n",
       "\n",
       "    .dataframe tbody tr th {\n",
       "        vertical-align: top;\n",
       "    }\n",
       "\n",
       "    .dataframe thead th {\n",
       "        text-align: right;\n",
       "    }\n",
       "</style>\n",
       "<table border=\"1\" class=\"dataframe\">\n",
       "  <thead>\n",
       "    <tr style=\"text-align: right;\">\n",
       "      <th></th>\n",
       "      <th>Crime</th>\n",
       "      <th>Denver Count</th>\n",
       "      <th>Philadelphia Count</th>\n",
       "      <th>Los Angeles Count</th>\n",
       "      <th>Boston Count</th>\n",
       "    </tr>\n",
       "  </thead>\n",
       "  <tbody>\n",
       "    <tr>\n",
       "      <th>0</th>\n",
       "      <td>Aggravated Assault</td>\n",
       "      <td>5615</td>\n",
       "      <td>7506</td>\n",
       "      <td>13471</td>\n",
       "      <td>24296</td>\n",
       "    </tr>\n",
       "    <tr>\n",
       "      <th>1</th>\n",
       "      <td>Robbery</td>\n",
       "      <td>1213</td>\n",
       "      <td>3833</td>\n",
       "      <td>2932</td>\n",
       "      <td>4740</td>\n",
       "    </tr>\n",
       "    <tr>\n",
       "      <th>2</th>\n",
       "      <td>Rape</td>\n",
       "      <td>717</td>\n",
       "      <td>446</td>\n",
       "      <td>338</td>\n",
       "      <td>NaN</td>\n",
       "    </tr>\n",
       "    <tr>\n",
       "      <th>3</th>\n",
       "      <td>Homicide</td>\n",
       "      <td>49</td>\n",
       "      <td>273</td>\n",
       "      <td>68</td>\n",
       "      <td>165</td>\n",
       "    </tr>\n",
       "  </tbody>\n",
       "</table>\n",
       "</div>"
      ],
      "text/plain": [
       "                Crime  Denver Count  Philadelphia Count  Los Angeles Count  \\\n",
       "0  Aggravated Assault          5615                7506              13471   \n",
       "1             Robbery          1213                3833               2932   \n",
       "2                Rape           717                 446                338   \n",
       "3            Homicide            49                 273                 68   \n",
       "\n",
       "  Boston Count  \n",
       "0        24296  \n",
       "1         4740  \n",
       "2          NaN  \n",
       "3          165  "
      ]
     },
     "execution_count": 12,
     "metadata": {},
     "output_type": "execute_result"
    }
   ],
   "source": [
    "#Combine previous combined dataframe with the Boston Count, Rename 'counts' column to 'Boston Count' and 'crime_type' to 'Crime'\n",
    "combined_df = pd.merge(combined_df, boston_df, on=\"crime_type\")\n",
    "combined_df.rename(columns={'crime_type':'Crime', 'counts':'Boston Count'}, inplace=True)\n",
    "combined_df"
   ]
  }
 ],
 "metadata": {
  "kernelspec": {
   "display_name": "Python [conda env:PythonData]",
   "language": "python",
   "name": "conda-env-PythonData-py"
  },
  "language_info": {
   "codemirror_mode": {
    "name": "ipython",
    "version": 3
   },
   "file_extension": ".py",
   "mimetype": "text/x-python",
   "name": "python",
   "nbconvert_exporter": "python",
   "pygments_lexer": "ipython3",
   "version": "3.6.8"
  }
 },
 "nbformat": 4,
 "nbformat_minor": 2
}
